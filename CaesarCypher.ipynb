{
  "nbformat": 4,
  "nbformat_minor": 0,
  "metadata": {
    "colab": {
      "provenance": [],
      "authorship_tag": "ABX9TyOmJaANI/7PxY87AdiurCIS",
      "include_colab_link": true
    },
    "kernelspec": {
      "name": "python3",
      "display_name": "Python 3"
    }
  },
  "cells": [
    {
      "cell_type": "markdown",
      "metadata": {
        "id": "view-in-github",
        "colab_type": "text"
      },
      "source": [
        "<a href=\"https://colab.research.google.com/github/dwgb93/CaesarCypher/blob/main/CaesarCypher.ipynb\" target=\"_parent\"><img src=\"https://colab.research.google.com/assets/colab-badge.svg\" alt=\"Open In Colab\"/></a>"
      ]
    },
    {
      "cell_type": "markdown",
      "source": [
        "# Ceasar Cypher\n",
        "\n",
        "Given a text string that has been scrambled using a [Caesar Cypher](https://en.wikipedia.org/wiki/Caesar_cipher), the following code unscrambles that text.\n",
        "\n",
        "In a Caesar Cypher, each character has been shifted by $k$ letters down the alphabet. For example, if $k = 4$, then A becomes E, B becomes F, etc.\n",
        "\n",
        "Note: Spaces are excluded ~~and both inputs (Ciphertext) and outputs (plaintext) will be lowercase only~~. Also punctuation is~~n't~~ supported.\n",
        "\n",
        "2024 Update: UPPER and lowercase letters are accepted, as is punctuation!"
      ],
      "metadata": {
        "id": "LTSHkvXwV9rp"
      }
    },
    {
      "cell_type": "code",
      "metadata": {
        "id": "smUELflaZ4YE"
      },
      "source": [
        "import numpy as np\n",
        "cypher_text = \"Hss aoha pz nvsk kvlz uva nspaaly,\\n\\\n",
        "Uva hss aovzl dov dhukly hyl svza;\\n\\\n",
        "Aol vsk aoha pz zayvun kvlz uva dpaoly,\\n\\\n",
        "Kllw yvvaz hyl uva ylhjolk if aol myvza.\\n\\\n",
        "\\n\\\n",
        "Myvt aol hzolz h mpyl zohss il dvrlu,\\n\\\n",
        "H spnoa myvt aol zohkvdz zohss zwypun;\\n\\\n",
        "Yluldlk zohss il ishkl aoha dhz iyvrlu,\\n\\\n",
        "Aol jyvduslzz hnhpu zohss il rpun.\""
      ],
      "execution_count": 1,
      "outputs": []
    },
    {
      "cell_type": "markdown",
      "source": [
        "Calculates a histogram of letters in the text."
      ],
      "metadata": {
        "id": "H6VtHaWWaS32"
      }
    },
    {
      "cell_type": "code",
      "metadata": {
        "id": "TvCiJ9TQZ-Av"
      },
      "source": [
        "def calculate_distribution(clear_text):\n",
        "    clear_dist = np.zeros(26)\n",
        "    for letter in clear_text.lower():\n",
        "        if ord(letter)-97 > 0:\n",
        "            clear_dist[ord(letter)-97] += 1\n",
        "\n",
        "    return clear_dist"
      ],
      "execution_count": 2,
      "outputs": []
    },
    {
      "cell_type": "code",
      "metadata": {
        "id": "JyqsyKd8Z-GW"
      },
      "source": [
        "new_dist = calculate_distribution(cypher_text)"
      ],
      "execution_count": 3,
      "outputs": []
    },
    {
      "cell_type": "code",
      "source": [
        "def shift(cypher_text, shift):\n",
        "    clear_text = ''\n",
        "    for letter in cypher_text:\n",
        "        k = shift\n",
        "\n",
        "        # if it's uppercase\n",
        "        if (97 <= ord(letter) <= 122):\n",
        "            if ord(letter)+k > 122:\n",
        "                # rollover\n",
        "                k -= 26\n",
        "            clear_text += str(chr(ord(letter)+k))\n",
        "\n",
        "        # if it's lowercase\n",
        "        elif  (65 <= ord(letter) <= 90):\n",
        "            if ord(letter)+k > 90:\n",
        "                # rollover\n",
        "                k -= 26\n",
        "            clear_text += str(chr(ord(letter)+k))\n",
        "\n",
        "        else:\n",
        "            # Punctuation\n",
        "            clear_text += letter\n",
        "\n",
        "    return clear_text"
      ],
      "metadata": {
        "id": "LPt9DQ-KdvNo"
      },
      "execution_count": 4,
      "outputs": []
    },
    {
      "cell_type": "markdown",
      "source": [
        "Note: The following distribution of letters has changed slightly since I wrote this.\n",
        "Feel free to update"
      ],
      "metadata": {
        "id": "KF_UhaS1afbv"
      }
    },
    {
      "cell_type": "code",
      "source": [
        "#From Wikipedia: https://en.wikipedia.org/w/index.php?title=Letter_frequency&oldid=963382156\n",
        "english_dist = [0.08497, 0.01492, 0.02202, 0.04253, 0.11162, 0.02228, 0.02015, 0.06094, 0.07546, 0.00153, 0.01292, 0.04025, 0.02406, 0.06749, 0.07507, 0.01929, 0.00095, 0.07587, 0.06327, 0.09356, 0.02758, 0.00978, 0.02560, 0.00150, 0.01994, 0.00077]\n",
        "#Note, these numbers do not add up to 1, presumably due to rounding?"
      ],
      "metadata": {
        "id": "mZXcWAVSV4ES"
      },
      "execution_count": 5,
      "outputs": []
    },
    {
      "cell_type": "markdown",
      "source": [
        "2024 update!\n",
        "\n",
        "I'm not convinced using the dot product is the correct way to compare these two distributions.\n",
        "\n",
        "The dot product is the unnormalized version of [Cosine similarity](https://en.wikipedia.org/wiki/Cosine_similarity), which is largest when the vectors point in the same direction.\n",
        "\n",
        "However, something like the the [KL-Divergence](https://en.wikipedia.org/wiki/Kullback%E2%80%93Leibler_divergence) is another method that calculates the relative entropy or difference in information represented by two distributions, which may be more appropriate in this context."
      ],
      "metadata": {
        "id": "kPufDnRGgK7-"
      }
    },
    {
      "cell_type": "code",
      "source": [
        "def KL(clear_dist, english_dist):\n",
        "   return np.sum(np.where(clear_dist != 0, clear_dist * np.log(clear_dist / english_dist), 0))\n",
        "\n",
        "# Note: I don't normalize either of these, so the units aren't anything\n",
        "# But the important part is lower = better still."
      ],
      "metadata": {
        "id": "uWa3vAgahJhR"
      },
      "execution_count": 6,
      "outputs": []
    },
    {
      "cell_type": "code",
      "metadata": {
        "id": "57g4zMePZ-I3",
        "colab": {
          "base_uri": "https://localhost:8080/"
        },
        "outputId": "c9876699-fa85-4464-a925-63bbaf9b175b"
      },
      "source": [
        "max_dot = 0\n",
        "min_KL = np.inf\n",
        "k = 0\n",
        "kl = 0\n",
        "#shift the thing by k a bunch of times\n",
        "for i in range(26):\n",
        "    clear_textk = shift(cypher_text, i)\n",
        "    clear_distk = calculate_distribution(clear_textk)\n",
        "\n",
        "    print(\"\\nk =\",i,\"\\n\", shift(cypher_text,i))\n",
        "\n",
        "    if np.dot(clear_distk, english_dist) > max_dot:\n",
        "        k = i\n",
        "        max_dot = np.dot(clear_distk, english_dist)\n",
        "\n",
        "    if KL(clear_distk, english_dist) < min_KL:\n",
        "        kl = i\n",
        "        min_KL = KL(clear_distk, english_dist)\n",
        "\n",
        ""
      ],
      "execution_count": 7,
      "outputs": [
        {
          "output_type": "stream",
          "name": "stdout",
          "text": [
            "\n",
            "k = 0 \n",
            " Hss aoha pz nvsk kvlz uva nspaaly,\n",
            "Uva hss aovzl dov dhukly hyl svza;\n",
            "Aol vsk aoha pz zayvun kvlz uva dpaoly,\n",
            "Kllw yvvaz hyl uva ylhjolk if aol myvza.\n",
            "\n",
            "Myvt aol hzolz h mpyl zohss il dvrlu,\n",
            "H spnoa myvt aol zohkvdz zohss zwypun;\n",
            "Yluldlk zohss il ishkl aoha dhz iyvrlu,\n",
            "Aol jyvduslzz hnhpu zohss il rpun.\n",
            "\n",
            "k = 1 \n",
            " Itt bpib qa owtl lwma vwb otqbbmz,\n",
            "Vwb itt bpwam epw eivlmz izm twab;\n",
            "Bpm wtl bpib qa abzwvo lwma vwb eqbpmz,\n",
            "Lmmx zwwba izm vwb zmikpml jg bpm nzwab.\n",
            "\n",
            "Nzwu bpm iapma i nqzm apitt jm ewsmv,\n",
            "I tqopb nzwu bpm apilwea apitt axzqvo;\n",
            "Zmvmeml apitt jm jtilm bpib eia jzwsmv,\n",
            "Bpm kzwevtmaa ioiqv apitt jm sqvo.\n",
            "\n",
            "k = 2 \n",
            " Juu cqjc rb pxum mxnb wxc purccna,\n",
            "Wxc juu cqxbn fqx fjwmna jan uxbc;\n",
            "Cqn xum cqjc rb bcaxwp mxnb wxc frcqna,\n",
            "Mnny axxcb jan wxc anjlqnm kh cqn oaxbc.\n",
            "\n",
            "Oaxv cqn jbqnb j oran bqjuu kn fxtnw,\n",
            "J urpqc oaxv cqn bqjmxfb bqjuu byarwp;\n",
            "Anwnfnm bqjuu kn kujmn cqjc fjb kaxtnw,\n",
            "Cqn laxfwunbb jpjrw bqjuu kn trwp.\n",
            "\n",
            "k = 3 \n",
            " Kvv drkd sc qyvn nyoc xyd qvsddob,\n",
            "Xyd kvv dryco gry gkxnob kbo vycd;\n",
            "Dro yvn drkd sc cdbyxq nyoc xyd gsdrob,\n",
            "Nooz byydc kbo xyd bokmron li dro pbycd.\n",
            "\n",
            "Pbyw dro kcroc k psbo crkvv lo gyuox,\n",
            "K vsqrd pbyw dro crknygc crkvv czbsxq;\n",
            "Boxogon crkvv lo lvkno drkd gkc lbyuox,\n",
            "Dro mbygxvocc kqksx crkvv lo usxq.\n",
            "\n",
            "k = 4 \n",
            " Lww esle td rzwo ozpd yze rwteepc,\n",
            "Yze lww eszdp hsz hlyopc lcp wzde;\n",
            "Esp zwo esle td deczyr ozpd yze htespc,\n",
            "Oppa czzed lcp yze cplnspo mj esp qczde.\n",
            "\n",
            "Qczx esp ldspd l qtcp dslww mp hzvpy,\n",
            "L wtrse qczx esp dslozhd dslww dactyr;\n",
            "Cpyphpo dslww mp mwlop esle hld mczvpy,\n",
            "Esp nczhywpdd lrlty dslww mp vtyr.\n",
            "\n",
            "k = 5 \n",
            " Mxx ftmf ue saxp paqe zaf sxuffqd,\n",
            "Zaf mxx ftaeq ita imzpqd mdq xaef;\n",
            "Ftq axp ftmf ue efdazs paqe zaf iuftqd,\n",
            "Pqqb daafe mdq zaf dqmotqp nk ftq rdaef.\n",
            "\n",
            "Rday ftq metqe m rudq etmxx nq iawqz,\n",
            "M xustf rday ftq etmpaie etmxx ebduzs;\n",
            "Dqzqiqp etmxx nq nxmpq ftmf ime ndawqz,\n",
            "Ftq odaizxqee msmuz etmxx nq wuzs.\n",
            "\n",
            "k = 6 \n",
            " Nyy gung vf tbyq qbrf abg tyvggre,\n",
            "Abg nyy gubfr jub jnaqre ner ybfg;\n",
            "Gur byq gung vf fgebat qbrf abg jvgure,\n",
            "Qrrc ebbgf ner abg ernpurq ol gur sebfg.\n",
            "\n",
            "Sebz gur nfurf n sver funyy or jbxra,\n",
            "N yvtug sebz gur funqbjf funyy fcevat;\n",
            "Erarjrq funyy or oynqr gung jnf oebxra,\n",
            "Gur pebjayrff ntnva funyy or xvat.\n",
            "\n",
            "k = 7 \n",
            " Ozz hvoh wg uczr rcsg bch uzwhhsf,\n",
            "Bch ozz hvcgs kvc kobrsf ofs zcgh;\n",
            "Hvs czr hvoh wg ghfcbu rcsg bch kwhvsf,\n",
            "Rssd fcchg ofs bch fsoqvsr pm hvs tfcgh.\n",
            "\n",
            "Tfca hvs ogvsg o twfs gvozz ps kcysb,\n",
            "O zwuvh tfca hvs gvorckg gvozz gdfwbu;\n",
            "Fsbsksr gvozz ps pzors hvoh kog pfcysb,\n",
            "Hvs qfckbzsgg ouowb gvozz ps ywbu.\n",
            "\n",
            "k = 8 \n",
            " Paa iwpi xh vdas sdth cdi vaxiitg,\n",
            "Cdi paa iwdht lwd lpcstg pgt adhi;\n",
            "Iwt das iwpi xh higdcv sdth cdi lxiwtg,\n",
            "Stte gddih pgt cdi gtprwts qn iwt ugdhi.\n",
            "\n",
            "Ugdb iwt phwth p uxgt hwpaa qt ldztc,\n",
            "P axvwi ugdb iwt hwpsdlh hwpaa hegxcv;\n",
            "Gtctlts hwpaa qt qapst iwpi lph qgdztc,\n",
            "Iwt rgdlcathh pvpxc hwpaa qt zxcv.\n",
            "\n",
            "k = 9 \n",
            " Qbb jxqj yi webt teui dej wbyjjuh,\n",
            "Dej qbb jxeiu mxe mqdtuh qhu beij;\n",
            "Jxu ebt jxqj yi ijhedw teui dej myjxuh,\n",
            "Tuuf heeji qhu dej huqsxut ro jxu vheij.\n",
            "\n",
            "Vhec jxu qixui q vyhu ixqbb ru meaud,\n",
            "Q bywxj vhec jxu ixqtemi ixqbb ifhydw;\n",
            "Hudumut ixqbb ru rbqtu jxqj mqi rheaud,\n",
            "Jxu shemdbuii qwqyd ixqbb ru aydw.\n",
            "\n",
            "k = 10 \n",
            " Rcc kyrk zj xfcu ufvj efk xczkkvi,\n",
            "Efk rcc kyfjv nyf nreuvi riv cfjk;\n",
            "Kyv fcu kyrk zj jkifex ufvj efk nzkyvi,\n",
            "Uvvg iffkj riv efk ivrtyvu sp kyv wifjk.\n",
            "\n",
            "Wifd kyv rjyvj r wziv jyrcc sv nfbve,\n",
            "R czxyk wifd kyv jyrufnj jyrcc jgizex;\n",
            "Ivevnvu jyrcc sv scruv kyrk nrj sifbve,\n",
            "Kyv tifnecvjj rxrze jyrcc sv bzex.\n",
            "\n",
            "k = 11 \n",
            " Sdd lzsl ak ygdv vgwk fgl ydallwj,\n",
            "Fgl sdd lzgkw ozg osfvwj sjw dgkl;\n",
            "Lzw gdv lzsl ak kljgfy vgwk fgl oalzwj,\n",
            "Vwwh jgglk sjw fgl jwsuzwv tq lzw xjgkl.\n",
            "\n",
            "Xjge lzw skzwk s xajw kzsdd tw ogcwf,\n",
            "S dayzl xjge lzw kzsvgok kzsdd khjafy;\n",
            "Jwfwowv kzsdd tw tdsvw lzsl osk tjgcwf,\n",
            "Lzw ujgofdwkk sysaf kzsdd tw cafy.\n",
            "\n",
            "k = 12 \n",
            " Tee matm bl zhew whxl ghm zebmmxk,\n",
            "Ghm tee mahlx pah ptgwxk tkx ehlm;\n",
            "Max hew matm bl lmkhgz whxl ghm pbmaxk,\n",
            "Wxxi khhml tkx ghm kxtvaxw ur max ykhlm.\n",
            "\n",
            "Ykhf max tlaxl t ybkx latee ux phdxg,\n",
            "T ebzam ykhf max latwhpl latee likbgz;\n",
            "Kxgxpxw latee ux uetwx matm ptl ukhdxg,\n",
            "Max vkhpgexll tztbg latee ux dbgz.\n",
            "\n",
            "k = 13 \n",
            " Uff nbun cm aifx xiym hin afcnnyl,\n",
            "Hin uff nbimy qbi quhxyl uly fimn;\n",
            "Nby ifx nbun cm mnliha xiym hin qcnbyl,\n",
            "Xyyj liinm uly hin lyuwbyx vs nby zlimn.\n",
            "\n",
            "Zlig nby umbym u zcly mbuff vy qieyh,\n",
            "U fcabn zlig nby mbuxiqm mbuff mjlcha;\n",
            "Lyhyqyx mbuff vy vfuxy nbun qum vlieyh,\n",
            "Nby wliqhfymm uauch mbuff vy echa.\n",
            "\n",
            "k = 14 \n",
            " Vgg ocvo dn bjgy yjzn ijo bgdoozm,\n",
            "Ijo vgg ocjnz rcj rviyzm vmz gjno;\n",
            "Ocz jgy ocvo dn nomjib yjzn ijo rdoczm,\n",
            "Yzzk mjjon vmz ijo mzvxczy wt ocz amjno.\n",
            "\n",
            "Amjh ocz vnczn v admz ncvgg wz rjfzi,\n",
            "V gdbco amjh ocz ncvyjrn ncvgg nkmdib;\n",
            "Mzizrzy ncvgg wz wgvyz ocvo rvn wmjfzi,\n",
            "Ocz xmjrigznn vbvdi ncvgg wz fdib.\n",
            "\n",
            "k = 15 \n",
            " Whh pdwp eo ckhz zkao jkp cheppan,\n",
            "Jkp whh pdkoa sdk swjzan wna hkop;\n",
            "Pda khz pdwp eo opnkjc zkao jkp sepdan,\n",
            "Zaal nkkpo wna jkp nawydaz xu pda bnkop.\n",
            "\n",
            "Bnki pda wodao w bena odwhh xa skgaj,\n",
            "W hecdp bnki pda odwzkso odwhh olnejc;\n",
            "Najasaz odwhh xa xhwza pdwp swo xnkgaj,\n",
            "Pda ynksjhaoo wcwej odwhh xa gejc.\n",
            "\n",
            "k = 16 \n",
            " Xii qexq fp dlia albp klq difqqbo,\n",
            "Klq xii qelpb tel txkabo xob ilpq;\n",
            "Qeb lia qexq fp pqolkd albp klq tfqebo,\n",
            "Abbm ollqp xob klq obxzeba yv qeb colpq.\n",
            "\n",
            "Colj qeb xpebp x cfob pexii yb tlhbk,\n",
            "X ifdeq colj qeb pexaltp pexii pmofkd;\n",
            "Obkbtba pexii yb yixab qexq txp yolhbk,\n",
            "Qeb zoltkibpp xdxfk pexii yb hfkd.\n",
            "\n",
            "k = 17 \n",
            " Yjj rfyr gq emjb bmcq lmr ejgrrcp,\n",
            "Lmr yjj rfmqc ufm uylbcp ypc jmqr;\n",
            "Rfc mjb rfyr gq qrpmle bmcq lmr ugrfcp,\n",
            "Bccn pmmrq ypc lmr pcyafcb zw rfc dpmqr.\n",
            "\n",
            "Dpmk rfc yqfcq y dgpc qfyjj zc umicl,\n",
            "Y jgefr dpmk rfc qfybmuq qfyjj qnpgle;\n",
            "Pclcucb qfyjj zc zjybc rfyr uyq zpmicl,\n",
            "Rfc apmuljcqq yeygl qfyjj zc igle.\n",
            "\n",
            "k = 18 \n",
            " Zkk sgzs hr fnkc cndr mns fkhssdq,\n",
            "Mns zkk sgnrd vgn vzmcdq zqd knrs;\n",
            "Sgd nkc sgzs hr rsqnmf cndr mns vhsgdq,\n",
            "Cddo qnnsr zqd mns qdzbgdc ax sgd eqnrs.\n",
            "\n",
            "Eqnl sgd zrgdr z ehqd rgzkk ad vnjdm,\n",
            "Z khfgs eqnl sgd rgzcnvr rgzkk roqhmf;\n",
            "Qdmdvdc rgzkk ad akzcd sgzs vzr aqnjdm,\n",
            "Sgd bqnvmkdrr zfzhm rgzkk ad jhmf.\n",
            "\n",
            "k = 19 \n",
            " All that is gold does not glitter,\n",
            "Not all those who wander are lost;\n",
            "The old that is strong does not wither,\n",
            "Deep roots are not reached by the frost.\n",
            "\n",
            "From the ashes a fire shall be woken,\n",
            "A light from the shadows shall spring;\n",
            "Renewed shall be blade that was broken,\n",
            "The crownless again shall be king.\n",
            "\n",
            "k = 20 \n",
            " Bmm uibu jt hpme epft opu hmjuufs,\n",
            "Opu bmm uiptf xip xboefs bsf mptu;\n",
            "Uif pme uibu jt tuspoh epft opu xjuifs,\n",
            "Effq spput bsf opu sfbdife cz uif gsptu.\n",
            "\n",
            "Gspn uif btift b gjsf tibmm cf xplfo,\n",
            "B mjhiu gspn uif tibepxt tibmm tqsjoh;\n",
            "Sfofxfe tibmm cf cmbef uibu xbt csplfo,\n",
            "Uif dspxomftt bhbjo tibmm cf ljoh.\n",
            "\n",
            "k = 21 \n",
            " Cnn vjcv ku iqnf fqgu pqv inkvvgt,\n",
            "Pqv cnn vjqug yjq ycpfgt ctg nquv;\n",
            "Vjg qnf vjcv ku uvtqpi fqgu pqv ykvjgt,\n",
            "Fggr tqqvu ctg pqv tgcejgf da vjg htquv.\n",
            "\n",
            "Htqo vjg cujgu c hktg ujcnn dg yqmgp,\n",
            "C nkijv htqo vjg ujcfqyu ujcnn urtkpi;\n",
            "Tgpgygf ujcnn dg dncfg vjcv ycu dtqmgp,\n",
            "Vjg etqypnguu cickp ujcnn dg mkpi.\n",
            "\n",
            "k = 22 \n",
            " Doo wkdw lv jrog grhv qrw jolwwhu,\n",
            "Qrw doo wkrvh zkr zdqghu duh orvw;\n",
            "Wkh rog wkdw lv vwurqj grhv qrw zlwkhu,\n",
            "Ghhs urrwv duh qrw uhdfkhg eb wkh iurvw.\n",
            "\n",
            "Iurp wkh dvkhv d iluh vkdoo eh zrnhq,\n",
            "D oljkw iurp wkh vkdgrzv vkdoo vsulqj;\n",
            "Uhqhzhg vkdoo eh eodgh wkdw zdv eurnhq,\n",
            "Wkh furzqohvv djdlq vkdoo eh nlqj.\n",
            "\n",
            "k = 23 \n",
            " Epp xlex mw ksph hsiw rsx kpmxxiv,\n",
            "Rsx epp xlswi als aerhiv evi pswx;\n",
            "Xli sph xlex mw wxvsrk hsiw rsx amxliv,\n",
            "Hiit vssxw evi rsx vieglih fc xli jvswx.\n",
            "\n",
            "Jvsq xli ewliw e jmvi wlepp fi asoir,\n",
            "E pmklx jvsq xli wlehsaw wlepp wtvmrk;\n",
            "Viriaih wlepp fi fpehi xlex aew fvsoir,\n",
            "Xli gvsarpiww ekemr wlepp fi omrk.\n",
            "\n",
            "k = 24 \n",
            " Fqq ymfy nx ltqi itjx sty lqnyyjw,\n",
            "Sty fqq ymtxj bmt bfsijw fwj qtxy;\n",
            "Ymj tqi ymfy nx xywtsl itjx sty bnymjw,\n",
            "Ijju wttyx fwj sty wjfhmji gd ymj kwtxy.\n",
            "\n",
            "Kwtr ymj fxmjx f knwj xmfqq gj btpjs,\n",
            "F qnlmy kwtr ymj xmfitbx xmfqq xuwnsl;\n",
            "Wjsjbji xmfqq gj gqfij ymfy bfx gwtpjs,\n",
            "Ymj hwtbsqjxx flfns xmfqq gj pnsl.\n",
            "\n",
            "k = 25 \n",
            " Grr zngz oy murj juky tuz mrozzkx,\n",
            "Tuz grr znuyk cnu cgtjkx gxk ruyz;\n",
            "Znk urj zngz oy yzxutm juky tuz coznkx,\n",
            "Jkkv xuuzy gxk tuz xkginkj he znk lxuyz.\n",
            "\n",
            "Lxus znk gynky g loxk yngrr hk cuqkt,\n",
            "G romnz lxus znk yngjucy yngrr yvxotm;\n",
            "Xktkckj yngrr hk hrgjk zngz cgy hxuqkt,\n",
            "Znk ixuctrkyy gmgot yngrr hk qotm.\n"
          ]
        },
        {
          "output_type": "stream",
          "name": "stderr",
          "text": [
            "<ipython-input-6-a90cbfaa61ea>:2: RuntimeWarning: divide by zero encountered in log\n",
            "  return np.sum(np.where(clear_dist != 0, clear_dist * np.log(clear_dist / english_dist), 0))\n",
            "<ipython-input-6-a90cbfaa61ea>:2: RuntimeWarning: invalid value encountered in multiply\n",
            "  return np.sum(np.where(clear_dist != 0, clear_dist * np.log(clear_dist / english_dist), 0))\n"
          ]
        }
      ]
    },
    {
      "cell_type": "code",
      "metadata": {
        "id": "7_DKRMdrkeiD",
        "colab": {
          "base_uri": "https://localhost:8080/"
        },
        "outputId": "d5db31c0-110b-4f55-aedd-4784d4877c89"
      },
      "source": [
        "#print out the best one\n",
        "print(\"The best k is\", k)\n",
        "print(\"The cleartext is:\", shift(cypher_text, k))"
      ],
      "execution_count": 8,
      "outputs": [
        {
          "output_type": "stream",
          "name": "stdout",
          "text": [
            "The best k is 19\n",
            "The cleartext is: All that is gold does not glitter,\n",
            "Not all those who wander are lost;\n",
            "The old that is strong does not wither,\n",
            "Deep roots are not reached by the frost.\n",
            "\n",
            "From the ashes a fire shall be woken,\n",
            "A light from the shadows shall spring;\n",
            "Renewed shall be blade that was broken,\n",
            "The crownless again shall be king.\n"
          ]
        }
      ]
    },
    {
      "cell_type": "code",
      "source": [
        "#print out the best KL one\n",
        "print(\"The best k for KL is\", kl)\n",
        "print(\"The cleartext is:\", shift(cypher_text, kl))"
      ],
      "metadata": {
        "colab": {
          "base_uri": "https://localhost:8080/"
        },
        "id": "fkkOneAqczdp",
        "outputId": "81d9298a-2509-4512-8813-667612d59b63"
      },
      "execution_count": 9,
      "outputs": [
        {
          "output_type": "stream",
          "name": "stdout",
          "text": [
            "The best k for KL is 19\n",
            "The cleartext is: All that is gold does not glitter,\n",
            "Not all those who wander are lost;\n",
            "The old that is strong does not wither,\n",
            "Deep roots are not reached by the frost.\n",
            "\n",
            "From the ashes a fire shall be woken,\n",
            "A light from the shadows shall spring;\n",
            "Renewed shall be blade that was broken,\n",
            "The crownless again shall be king.\n"
          ]
        }
      ]
    },
    {
      "cell_type": "markdown",
      "source": [
        "Note the two texts (and values of $k$) should be in agreement."
      ],
      "metadata": {
        "id": "Re0utUfl0EGq"
      }
    },
    {
      "cell_type": "code",
      "source": [],
      "metadata": {
        "id": "6RLn-GJV0Hxk"
      },
      "execution_count": 9,
      "outputs": []
    }
  ]
}